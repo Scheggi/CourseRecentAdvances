{
 "cells": [
  {
   "cell_type": "code",
   "id": "initial_id",
   "metadata": {
    "collapsed": true,
    "ExecuteTime": {
     "end_time": "2025-06-29T20:51:00.081809Z",
     "start_time": "2025-06-29T20:51:00.077663Z"
    }
   },
   "source": [
    "import torch\n",
    "import torch.optim as optim\n",
    "from sklearn.metrics import accuracy_score, f1_score\n",
    "import torch.nn as nn\n",
    "from collections import Counter\n",
    "import os, random, gc, warnings\n",
    "from pathlib import Path\n",
    "import ast, numpy as np, pandas as pd\n",
    "from sklearn.preprocessing import StandardScaler\n",
    "from torch.utils.data import Dataset, DataLoader,WeightedRandomSampler"
   ],
   "outputs": [],
   "execution_count": 15
  },
  {
   "metadata": {
    "ExecuteTime": {
     "end_time": "2025-06-29T21:04:53.628418Z",
     "start_time": "2025-06-29T21:04:53.624414Z"
    }
   },
   "cell_type": "code",
   "source": [
    "WINDOW_LEN = 50\n",
    "label_map = {\n",
    "    'null': 0,'jogging': 1,'jogging (rotating arms)': 2,'jogging (skipping)': 3,'jogging (sidesteps)': 4,'jogging (butt-kicks)': 5,\n",
    "    'stretching (triceps)': 6,'stretching (lunging)': 7,'stretching (shoulders)': 8,'stretching (hamstrings)': 9,'stretching (lumbar rotation)': 10,\n",
    "    'push-ups': 11,'push-ups (complex)': 12,'sit-ups': 13,'sit-ups (complex)': 14,'burpees': 15,'lunges': 16,'lunges (complex)': 17,'bench-dips': 18\n",
    "}\n",
    "\n",
    "warnings.filterwarnings('ignore')\n",
    "test_subjects = [21]\n",
    "embedding_dim = 64\n",
    "num_classes = len(label_map.keys())\n",
    "sequence_length = 50\n",
    "input_channels = 3\n",
    "num_layers = 2\n",
    "hidden_size = 128\n",
    "learning_rate = 0.001\n",
    "num_epochs = 30\n",
    "batch_size = 256\n",
    "LR           = 3e-3\n",
    "WEIGHT_DECAY = 1e-4\n",
    "test_subjects = [21]\n",
    "loc = \"right_arm\"\n",
    "THRESHOLD: float = 0.25\n",
    "DEFAULT_CLASS: int = 0\n",
    "device =  torch.device('cuda' if torch.cuda.is_available() else 'cpu')\n",
    "\n",
    "\n",
    "RAW_DIR   = Path('data')\n",
    "TRAIN_DIR = RAW_DIR / 'dataset_without_null'\n",
    "TEST_CSV  = RAW_DIR / 'test.csv'                   # public test\n",
    "LOCATION_IDS = [\"right_arm\", \"left_arm\", \"right_leg\", \"left_leg\"]\n",
    "WORK_DIR = Path('resnet')"
   ],
   "id": "43beaf61431c0e23",
   "outputs": [],
   "execution_count": 22
  },
  {
   "metadata": {
    "ExecuteTime": {
     "end_time": "2025-06-29T21:05:22.193408Z",
     "start_time": "2025-06-29T21:05:22.184466Z"
    }
   },
   "cell_type": "code",
   "source": [
    "class WindowDS(Dataset):\n",
    "    def __init__(self, df, fit_scaler=False, scaler=None, augment=False):\n",
    "        self.y   = df['label'].values.astype('int64') if 'label' in df else None\n",
    "        x   = np.stack([np.array(ast.literal_eval(col), dtype='float32')\n",
    "                        for col in df['x_axis']])\n",
    "        y_  = np.stack([np.array(ast.literal_eval(col), dtype='float32')\n",
    "                        for col in df['y_axis']])\n",
    "        z   = np.stack([np.array(ast.literal_eval(col), dtype='float32')\n",
    "                        for col in df['z_axis']])\n",
    "        self.x = np.stack([x, y_, z], axis=1)          # (N, 3, 50)\n",
    "        if fit_scaler:\n",
    "            self.mean = self.x.mean((0,2), keepdims=True)\n",
    "            self.std  = self.x.std((0,2),  keepdims=True) + 1e-7\n",
    "        else:\n",
    "            self.mean, self.std = scaler\n",
    "        self.x = (self.x-self.mean)/self.std\n",
    "        self.augment = augment\n",
    "\n",
    "    def __len__(self): return len(self.x)\n",
    "\n",
    "    def __getitem__(self, idx):\n",
    "        xb = self.x[idx]\n",
    "        if self.augment:\n",
    "            if random.random() < .5:\n",
    "                xb += np.random.normal(0, .02, xb.shape)\n",
    "        xb = torch.from_numpy(xb).float()\n",
    "        if self.y is None:\n",
    "            return xb\n",
    "        return xb, torch.tensor(self.y[idx]-1)  # shift to 0-17\n",
    "\n",
    "def conv3(in_c, out_c, s=1): return nn.Conv1d(in_c, out_c, 3, s, 1, bias=False)\n",
    "\n",
    "class Block(nn.Module):\n",
    "    def __init__(self, in_c, out_c, s=1):\n",
    "        super().__init__()\n",
    "        self.conv1 = conv3(in_c, out_c, s)\n",
    "        self.bn1   = nn.BatchNorm1d(out_c)\n",
    "        self.relu  = nn.ReLU(inplace=True)\n",
    "        self.conv2 = conv3(out_c, out_c)\n",
    "        self.bn2   = nn.BatchNorm1d(out_c)\n",
    "        self.down  = None\n",
    "        if s!=1 or in_c!=out_c:\n",
    "            self.down = nn.Sequential(nn.Conv1d(in_c, out_c, 1, s, bias=False),\n",
    "                                      nn.BatchNorm1d(out_c))\n",
    "    def forward(self, x):\n",
    "        i = x\n",
    "        x = self.relu(self.bn1(self.conv1(x)))\n",
    "        x = self.bn2(self.conv2(x))\n",
    "        if self.down: i = self.down(i)\n",
    "        return self.relu(x + i)\n",
    "\n",
    "class ResNetTiny(nn.Module):\n",
    "    def __init__(self, n_cls):\n",
    "        super().__init__()\n",
    "        self.stem = nn.Sequential(\n",
    "            nn.Conv1d(3, 16, 7, 2, 3, bias=False),\n",
    "            nn.BatchNorm1d(16), nn.ReLU(inplace=True),\n",
    "            nn.MaxPool1d(3, 2, 1)\n",
    "        )\n",
    "        self.layer1 = Block(16,16)\n",
    "        self.layer2 = Block(16,32,2)\n",
    "        self.layer3 = Block(32,64,2)\n",
    "        self.pool   = nn.AdaptiveAvgPool1d(1)\n",
    "        self.fc     = nn.Linear(64, n_cls)\n",
    "\n",
    "    def forward(self, x):\n",
    "        x = self.stem(x)\n",
    "        x = self.layer1(x); x = self.layer2(x); x = self.layer3(x)\n",
    "        x = self.pool(x).squeeze(-1)\n",
    "        return self.fc(x)"
   ],
   "id": "5462363eeca65705",
   "outputs": [],
   "execution_count": 25
  },
  {
   "metadata": {
    "ExecuteTime": {
     "end_time": "2025-06-29T21:05:22.520298Z",
     "start_time": "2025-06-29T21:05:22.509665Z"
    }
   },
   "cell_type": "code",
   "source": [
    "\n",
    "\n",
    "def train_one_epoch(model, loader, optimizer, criterion):\n",
    "    model.train()\n",
    "    total_loss = 0.0\n",
    "    for xb, yb in loader:\n",
    "        xb, yb = xb.to(device), yb.to(device)\n",
    "        optimizer.zero_grad()\n",
    "        logits = model(xb)\n",
    "        loss = criterion(logits, yb)\n",
    "        loss.backward()\n",
    "        optimizer.step()\n",
    "        total_loss += loss.item() * xb.size(0)\n",
    "    return total_loss / len(loader.dataset)\n",
    "\n",
    "@torch.no_grad()\n",
    "def evaluate(model, loader):\n",
    "    model.eval()\n",
    "    ys, preds = [], []\n",
    "    for xb, yb in loader:\n",
    "        xb = xb.to(device)\n",
    "        logits = model(xb)\n",
    "        preds.append(logits.argmax(dim=1).cpu())\n",
    "        ys.append(yb)\n",
    "    y_true = torch.cat(ys)\n",
    "    y_pred = torch.cat(preds)\n",
    "    return f1_score(y_true, y_pred, average='macro')\n",
    "\n",
    "\n",
    "def loso_train_one_location(loc_id: str):\n",
    "    csv_path = TRAIN_DIR / f'{loc_id}_windows.csv'\n",
    "    df       = pd.read_csv(csv_path)\n",
    "    subjects = sorted(df['sbj_id'].unique())\n",
    "\n",
    "    print(f'\\n=== LOCATION {loc_id}  ({csv_path.name})  '\n",
    "          f'{len(df)} windows, {len(subjects)} subjects ===')\n",
    "\n",
    "    best_overall_f1, best_state = -1, None\n",
    "    for val_subj in subjects:                            # LOSO loop\n",
    "        tr_df = df[df.sbj_id != val_subj]\n",
    "        va_df = df[df.sbj_id == val_subj]\n",
    "\n",
    "        tr_ds = WindowDS(tr_df, fit_scaler=True, augment=True)\n",
    "        va_ds = WindowDS(va_df, scaler=(tr_ds.mean, tr_ds.std))\n",
    "\n",
    "        weights = Counter(tr_ds.y)\n",
    "        weights = [1/weights[y] for y in tr_ds.y]\n",
    "        sampler = WeightedRandomSampler(weights, len(tr_ds), replacement=True)\n",
    "\n",
    "        tr_dl = DataLoader(tr_ds, batch_size=batch_size,\n",
    "                           sampler=sampler, num_workers=2, pin_memory=True)\n",
    "        va_dl = DataLoader(va_ds, batch_size=batch_size,\n",
    "                           shuffle=False, num_workers=2)\n",
    "\n",
    "        model = ResNetTiny(num_classes).to(device)\n",
    "        opt   = torch.optim.AdamW(model.parameters(), lr=LR,\n",
    "                                  weight_decay=WEIGHT_DECAY)\n",
    "        crit  = nn.CrossEntropyLoss()\n",
    "\n",
    "        for epoch in range(1, num_epochs + 1):\n",
    "            _ = train_one_epoch(model, tr_dl, opt, crit)\n",
    "        f1 = evaluate(model, va_dl)\n",
    "        print(f'  val subj {val_subj:2d}:  F1={f1:.4f}')\n",
    "        if f1 > best_overall_f1:\n",
    "            best_overall_f1, best_state = f1, model.state_dict()\n",
    "\n",
    "    print(f'>>> BEST LOSO F1 for location {loc_id}: {best_overall_f1:.4f}')\n",
    "    torch.save({'state': best_state,\n",
    "                'mean':  tr_ds.mean,\n",
    "                'std':   tr_ds.std},\n",
    "               WORK_DIR / f'location_{loc_id}.pth')\n",
    "    print(f'checkpoint saved →  {WORK_DIR/ f\"location_{loc_id}.pth\"}')"
   ],
   "id": "803e4f1a92c6f99a",
   "outputs": [],
   "execution_count": 26
  },
  {
   "metadata": {
    "ExecuteTime": {
     "end_time": "2025-06-29T21:05:24.006457Z",
     "start_time": "2025-06-29T21:05:24.004678Z"
    }
   },
   "cell_type": "code",
   "source": "",
   "id": "ce8e1db0e355abd9",
   "outputs": [],
   "execution_count": null
  },
  {
   "metadata": {
    "jupyter": {
     "is_executing": true
    },
    "ExecuteTime": {
     "start_time": "2025-06-29T21:05:46.301394Z"
    }
   },
   "cell_type": "code",
   "source": [
    "os.makedirs(WORK_DIR, exist_ok=True)\n",
    "for loc in LOCATION_IDS:\n",
    "    loso_train_one_location(loc)\n",
    "    torch.cuda.empty_cache()"
   ],
   "id": "b70421264510fd21",
   "outputs": [
    {
     "name": "stdout",
     "output_type": "stream",
     "text": [
      "\n",
      "=== LOCATION right_arm  (right_arm_windows.csv)  83525 windows, 22 subjects ===\n",
      "  val subj  0:  F1=0.5814\n"
     ]
    }
   ],
   "execution_count": null
  },
  {
   "metadata": {},
   "cell_type": "code",
   "outputs": [],
   "execution_count": null,
   "source": "",
   "id": "1320205345cbee12"
  }
 ],
 "metadata": {
  "kernelspec": {
   "display_name": "Python 3",
   "language": "python",
   "name": "python3"
  },
  "language_info": {
   "codemirror_mode": {
    "name": "ipython",
    "version": 2
   },
   "file_extension": ".py",
   "mimetype": "text/x-python",
   "name": "python",
   "nbconvert_exporter": "python",
   "pygments_lexer": "ipython2",
   "version": "2.7.6"
  }
 },
 "nbformat": 4,
 "nbformat_minor": 5
}
