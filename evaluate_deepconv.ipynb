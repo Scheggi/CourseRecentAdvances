{
 "cells": [
  {
   "metadata": {
    "ExecuteTime": {
     "end_time": "2025-07-01T23:02:42.732640Z",
     "start_time": "2025-07-01T23:02:34.755603Z"
    }
   },
   "cell_type": "code",
   "source": [
    "import pandas as pd\n",
    "import numpy as np\n",
    "import torch\n",
    "from torch.utils.data import TensorDataset, DataLoader\n",
    "from sklearn.preprocessing import LabelEncoder, StandardScaler\n",
    "from tqdm import tqdm\n",
    "import os\n",
    "from pathlib import Path\n",
    "import numpy as np\n",
    "import pandas as pd\n",
    "import matplotlib.pyplot as plt\n",
    "from sklearn.preprocessing import LabelEncoder, StandardScaler\n",
    "from sklearn.model_selection import train_test_split\n",
    "import torch\n",
    "import torch.nn as nn\n",
    "from torch.utils.data import Dataset, DataLoader\n",
    "from tqdm import tqdm"
   ],
   "id": "b40be22d50ed38df",
   "outputs": [],
   "execution_count": 1
  },
  {
   "metadata": {
    "ExecuteTime": {
     "end_time": "2025-07-01T23:02:42.972302Z",
     "start_time": "2025-07-01T23:02:42.962441Z"
    }
   },
   "cell_type": "code",
   "source": [
    "class DeepConvLSTM(nn.Module):\n",
    "    def __init__(self, num_channels, num_classes):\n",
    "        super().__init__()\n",
    "        self.conv1 = nn.Conv1d(num_channels, 64, kernel_size=5, padding=2)\n",
    "        self.conv2 = nn.Conv1d(64, 128, kernel_size=5, padding=2)\n",
    "        self.conv3 = nn.Conv1d(128, 128, kernel_size=5, padding=2)\n",
    "        self.relu = nn.ReLU()\n",
    "        self.pool = nn.MaxPool1d(2)\n",
    "        self.lstm = nn.LSTM(128, 128, num_layers=2, batch_first=True)\n",
    "        self.fc = nn.Linear(128, num_classes)\n",
    "    def forward(self, x):\n",
    "        x = x.permute(0, 2, 1)\n",
    "        x = self.relu(self.conv1(x)); x = self.pool(x)\n",
    "        x = self.relu(self.conv2(x)); x = self.pool(x)\n",
    "        x = self.relu(self.conv3(x)); x = self.pool(x)\n",
    "        x = x.permute(0, 2, 1)\n",
    "        out, _ = self.lstm(x)\n",
    "        return self.fc(out[:, -1, :])"
   ],
   "id": "df374cf67da14c7d",
   "outputs": [],
   "execution_count": 2
  },
  {
   "cell_type": "code",
   "id": "initial_id",
   "metadata": {
    "collapsed": true,
    "ExecuteTime": {
     "end_time": "2025-07-01T23:05:23.899095Z",
     "start_time": "2025-07-01T23:04:28.183554Z"
    }
   },
   "source": [
    "# 1. Load the test data\n",
    "test_data_df = pd.read_csv(\"./data/test.csv\")\n",
    "device = torch.device('cuda' if torch.cuda.is_available() else 'cpu')\n",
    "batch_size = 64\n",
    "# 2. Process the pre-windowed data\n",
    "# Convert string representation of lists to actual numpy arrays\n",
    "test_data_df[\"x_axis\"] = test_data_df[\"x_axis\"].apply(lambda row: np.array(eval(row), dtype=np.float32))\n",
    "test_data_df[\"y_axis\"] = test_data_df[\"y_axis\"].apply(lambda row: np.array(eval(row), dtype=np.float32))\n",
    "test_data_df[\"z_axis\"] = test_data_df[\"z_axis\"].apply(lambda row: np.array(eval(row), dtype=np.float32))\n",
    "result_df_list = []\n",
    "for i, entry in enumerate([\"right_arm\", \"left_arm\", \"left_leg\", \"right_leg\"]):\n",
    "    # Stack the axes to create a single numpy array for X_test\n",
    "    # The shape will be (num_samples, sequence_length, num_channels) -> (n, 50, 3)\n",
    "    test_df = test_data_df[test_data_df[\"sensor_location\"] == entry]\n",
    "    model = torch.load(f\"models/DeepConvLSTM/{i}.pt\", weights_only=False)\n",
    "    X_test_unscaled = np.stack([\n",
    "        np.vstack(test_df[\"x_axis\"].values),\n",
    "        np.vstack(test_df[\"y_axis\"].values),\n",
    "        np.vstack(test_df[\"z_axis\"].values)\n",
    "    ], axis=-1)\n",
    "\n",
    "    print(f\"Shape of unscaled test data: {X_test_unscaled.shape}\")\n",
    "\n",
    "    # 3. Scale the data using the *original* scaler\n",
    "    # The scaler expects a 2D array, so we reshape, transform, and then reshape back\n",
    "    num_samples, seq_len, num_features = X_test_unscaled.shape\n",
    "    X_test_reshaped = X_test_unscaled.reshape(-1, num_features)\n",
    "    scaler = StandardScaler()\n",
    "    X_test_scaled_reshaped = scaler.fit_transform(X_test_reshaped)\n",
    "    X_test = X_test_scaled_reshaped.reshape(num_samples, seq_len, num_features)\n",
    "\n",
    "    print(f\"Shape of final test data: {X_test.shape}\")\n",
    "\n",
    "    # 4. Create DataLoader for the test set\n",
    "    X_test_tensor = torch.tensor(X_test, dtype=torch.float32)\n",
    "\n",
    "    class TestDataset(Dataset):\n",
    "        def __init__(self, data):\n",
    "            self.data = torch.tensor(data, dtype=torch.float32)\n",
    "\n",
    "        def __len__(self):\n",
    "            return len(self.data)\n",
    "\n",
    "        def __getitem__(self, idx):\n",
    "            return self.data[idx]\n",
    "\n",
    "    test_dataset = TestDataset(X_test)\n",
    "    # Make sure drop_last=False to evaluate all test samples\n",
    "    test_loader = DataLoader(test_dataset, batch_size=batch_size, shuffle=False, drop_last=False)\n",
    "\n",
    "    # 5. Make predictions with the trained model\n",
    "    model.eval()\n",
    "    all_preds = []\n",
    "\n",
    "    with torch.no_grad():\n",
    "        for Xb in tqdm(test_loader, desc=\"Making predictions\"):\n",
    "            Xb = Xb.to(device)\n",
    "\n",
    "            preds = model(Xb)\n",
    "\n",
    "            all_preds.extend(preds.argmax(dim=1).cpu().numpy())\n",
    "\n",
    "    # 6. Generate submission file\n",
    "    result_df = pd.DataFrame({\n",
    "        'id': test_df[\"id\"].values,\n",
    "        'label': all_preds\n",
    "    })\n",
    "    result_df_list.append(result_df)\n",
    "\n",
    "result_df = pd.concat(result_df_list, ignore_index=True)\n",
    "result_df.to_csv(\"submission_deepconv.csv\", index=False)\n",
    "\n",
    "print(\"\\nSubmission file 'submission.csv' created successfully.\")\n",
    "print(result_df.head())\n"
   ],
   "outputs": [
    {
     "name": "stdout",
     "output_type": "stream",
     "text": [
      "Shape of unscaled test data: (12234, 50, 3)\n",
      "Shape of final test data: (12234, 50, 3)\n"
     ]
    },
    {
     "name": "stderr",
     "output_type": "stream",
     "text": [
      "Making predictions: 100%|██████████| 192/192 [00:02<00:00, 65.13it/s]\n"
     ]
    },
    {
     "name": "stdout",
     "output_type": "stream",
     "text": [
      "Shape of unscaled test data: (12234, 50, 3)\n",
      "Shape of final test data: (12234, 50, 3)\n"
     ]
    },
    {
     "name": "stderr",
     "output_type": "stream",
     "text": [
      "Making predictions: 100%|██████████| 192/192 [00:03<00:00, 54.88it/s]\n"
     ]
    },
    {
     "name": "stdout",
     "output_type": "stream",
     "text": [
      "Shape of unscaled test data: (12234, 50, 3)\n",
      "Shape of final test data: (12234, 50, 3)\n"
     ]
    },
    {
     "name": "stderr",
     "output_type": "stream",
     "text": [
      "Making predictions: 100%|██████████| 192/192 [00:02<00:00, 80.27it/s] \n"
     ]
    },
    {
     "name": "stdout",
     "output_type": "stream",
     "text": [
      "Shape of unscaled test data: (12234, 50, 3)\n",
      "Shape of final test data: (12234, 50, 3)\n"
     ]
    },
    {
     "name": "stderr",
     "output_type": "stream",
     "text": [
      "Making predictions: 100%|██████████| 192/192 [00:03<00:00, 53.21it/s]\n"
     ]
    },
    {
     "name": "stdout",
     "output_type": "stream",
     "text": [
      "\n",
      "Submission file 'submission.csv' created successfully.\n",
      "   id  label\n",
      "0   0     16\n",
      "1   1      6\n",
      "2   2     16\n",
      "3   3     15\n",
      "4   4     15\n"
     ]
    }
   ],
   "execution_count": 3
  },
  {
   "metadata": {},
   "cell_type": "code",
   "outputs": [],
   "execution_count": null,
   "source": "",
   "id": "17b1e5a6cb10d571"
  }
 ],
 "metadata": {
  "kernelspec": {
   "display_name": "Python 3",
   "language": "python",
   "name": "python3"
  },
  "language_info": {
   "codemirror_mode": {
    "name": "ipython",
    "version": 2
   },
   "file_extension": ".py",
   "mimetype": "text/x-python",
   "name": "python",
   "nbconvert_exporter": "python",
   "pygments_lexer": "ipython2",
   "version": "2.7.6"
  }
 },
 "nbformat": 4,
 "nbformat_minor": 5
}
