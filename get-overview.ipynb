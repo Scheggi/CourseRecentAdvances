{
 "cells": [
  {
   "metadata": {
    "ExecuteTime": {
     "end_time": "2025-06-19T19:27:52.353210Z",
     "start_time": "2025-06-19T19:27:52.350201Z"
    }
   },
   "cell_type": "code",
   "source": [
    "import os\n",
    "from pathlib import Path\n",
    "import pandas as pd\n",
    "import matplotlib.pyplot as plt\n",
    "from PIL import Image"
   ],
   "id": "initial_id",
   "outputs": [],
   "execution_count": 3
  },
  {
   "metadata": {
    "ExecuteTime": {
     "end_time": "2025-06-19T19:40:04.415638Z",
     "start_time": "2025-06-19T19:40:04.365132Z"
    }
   },
   "cell_type": "code",
   "source": [
    "BASE_DIR = Path('data')\n",
    "TRAIN_DIR = BASE_DIR / 'train'\n",
    "TEST_FILE = BASE_DIR / 'test.csv'\n",
    "META_FILE = BASE_DIR / 'meta_data.txt'"
   ],
   "id": "d8e5fc1f93416fd5",
   "outputs": [],
   "execution_count": 18
  },
  {
   "metadata": {
    "ExecuteTime": {
     "end_time": "2025-06-19T19:40:05.493213Z",
     "start_time": "2025-06-19T19:40:05.457932Z"
    }
   },
   "cell_type": "code",
   "source": [
    "def print_dir_structure(path: Path, max_level=2, level=0):\n",
    "    if level > max_level:\n",
    "        return\n",
    "    indent = ' ' * 4 * level\n",
    "    for item in sorted(path.iterdir()):\n",
    "        print(f\"{indent}- {item.name}{'/' if item.is_dir() else ''}\")\n",
    "        if item.is_dir():\n",
    "            print_dir_structure(item, max_level, level + 1)\n",
    "\n",
    "print_dir_structure(BASE_DIR)"
   ],
   "id": "818d39c7175dc4b8",
   "outputs": [
    {
     "name": "stdout",
     "output_type": "stream",
     "text": [
      "- meta_data.txt\n",
      "- test.csv\n",
      "- train/\n",
      "    - sbj_0.csv\n",
      "    - sbj_0_2.csv\n",
      "    - sbj_1.csv\n",
      "    - sbj_10.csv\n",
      "    - sbj_11.csv\n",
      "    - sbj_12.csv\n",
      "    - sbj_13.csv\n",
      "    - sbj_14.csv\n",
      "    - sbj_14_2.csv\n",
      "    - sbj_15.csv\n",
      "    - sbj_16.csv\n",
      "    - sbj_17.csv\n",
      "    - sbj_18.csv\n",
      "    - sbj_19.csv\n",
      "    - sbj_2.csv\n",
      "    - sbj_20.csv\n",
      "    - sbj_21.csv\n",
      "    - sbj_3.csv\n",
      "    - sbj_4.csv\n",
      "    - sbj_5.csv\n",
      "    - sbj_6.csv\n",
      "    - sbj_7.csv\n",
      "    - sbj_8.csv\n",
      "    - sbj_9.csv\n"
     ]
    }
   ],
   "execution_count": 19
  },
  {
   "metadata": {
    "ExecuteTime": {
     "end_time": "2025-06-19T19:41:54.625944Z",
     "start_time": "2025-06-19T19:40:52.338882Z"
    }
   },
   "cell_type": "code",
   "source": [
    "sbj_files = sorted(TRAIN_DIR.glob('sbj_*.csv'))\n",
    "print(len(sbj_files))\n",
    "train_dfs = []\n",
    "for file in sbj_files:\n",
    "    sbj_id = file.stem  # z.B. 'sbj_0_2'\n",
    "    df = pd.read_csv(file)\n",
    "    df['subject'] = sbj_id\n",
    "    train_dfs.append(df)\n",
    "\n",
    "train_df = pd.concat(train_dfs, ignore_index=True)\n",
    "print(f\"Train-Data shape: {train_df.shape}\")\n",
    "train_df.head()"
   ],
   "id": "13039abb9a8d003",
   "outputs": [
    {
     "name": "stdout",
     "output_type": "stream",
     "text": [
      "24\n"
     ]
    },
    {
     "name": "stderr",
     "output_type": "stream",
     "text": [
      "/tmp/ipykernel_2154667/2963770647.py:6: DtypeWarning: Columns (13) have mixed types. Specify dtype option on import or set low_memory=False.\n",
      "  df = pd.read_csv(file)\n"
     ]
    },
    {
     "name": "stdout",
     "output_type": "stream",
     "text": [
      "Train-Daten Gesamtshape: (3466400, 15)\n"
     ]
    },
    {
     "data": {
      "text/plain": [
       "   sbj_id  right_arm_acc_x  right_arm_acc_y  right_arm_acc_z  right_leg_acc_x  \\\n",
       "0       0         1.111720         0.064550         0.042595         0.982813   \n",
       "1       0         1.177174         0.231861        -0.003207         0.988545   \n",
       "2       0         1.124248         0.264661        -0.027485         0.982286   \n",
       "3       0         1.032746         0.236885        -0.066591         0.981618   \n",
       "4       0         0.974202         0.262050        -0.116387         0.988576   \n",
       "\n",
       "   right_leg_acc_y  right_leg_acc_z  left_leg_acc_x  left_leg_acc_y  \\\n",
       "0         0.113823         0.152618        0.978287       -0.111472   \n",
       "1         0.143807         0.144880        0.979794       -0.100042   \n",
       "2         0.155609         0.135133        0.982915       -0.095342   \n",
       "3         0.141745         0.134765        0.981991       -0.126157   \n",
       "4         0.120453         0.143329        0.977757       -0.124765   \n",
       "\n",
       "   left_leg_acc_z  left_arm_acc_x  left_arm_acc_y  left_arm_acc_z label  \\\n",
       "0        0.103445       -0.956057       -0.407509       -0.090828   NaN   \n",
       "1        0.086984       -1.122597       -0.232949       -0.106347   NaN   \n",
       "2        0.083391       -1.167835       -0.088288       -0.131609   NaN   \n",
       "3        0.088388       -1.143375        0.015024       -0.145414   NaN   \n",
       "4        0.113024       -1.063969        0.080970       -0.140224   NaN   \n",
       "\n",
       "  subject  \n",
       "0   sbj_0  \n",
       "1   sbj_0  \n",
       "2   sbj_0  \n",
       "3   sbj_0  \n",
       "4   sbj_0  "
      ],
      "text/html": [
       "<div>\n",
       "<style scoped>\n",
       "    .dataframe tbody tr th:only-of-type {\n",
       "        vertical-align: middle;\n",
       "    }\n",
       "\n",
       "    .dataframe tbody tr th {\n",
       "        vertical-align: top;\n",
       "    }\n",
       "\n",
       "    .dataframe thead th {\n",
       "        text-align: right;\n",
       "    }\n",
       "</style>\n",
       "<table border=\"1\" class=\"dataframe\">\n",
       "  <thead>\n",
       "    <tr style=\"text-align: right;\">\n",
       "      <th></th>\n",
       "      <th>sbj_id</th>\n",
       "      <th>right_arm_acc_x</th>\n",
       "      <th>right_arm_acc_y</th>\n",
       "      <th>right_arm_acc_z</th>\n",
       "      <th>right_leg_acc_x</th>\n",
       "      <th>right_leg_acc_y</th>\n",
       "      <th>right_leg_acc_z</th>\n",
       "      <th>left_leg_acc_x</th>\n",
       "      <th>left_leg_acc_y</th>\n",
       "      <th>left_leg_acc_z</th>\n",
       "      <th>left_arm_acc_x</th>\n",
       "      <th>left_arm_acc_y</th>\n",
       "      <th>left_arm_acc_z</th>\n",
       "      <th>label</th>\n",
       "      <th>subject</th>\n",
       "    </tr>\n",
       "  </thead>\n",
       "  <tbody>\n",
       "    <tr>\n",
       "      <th>0</th>\n",
       "      <td>0</td>\n",
       "      <td>1.111720</td>\n",
       "      <td>0.064550</td>\n",
       "      <td>0.042595</td>\n",
       "      <td>0.982813</td>\n",
       "      <td>0.113823</td>\n",
       "      <td>0.152618</td>\n",
       "      <td>0.978287</td>\n",
       "      <td>-0.111472</td>\n",
       "      <td>0.103445</td>\n",
       "      <td>-0.956057</td>\n",
       "      <td>-0.407509</td>\n",
       "      <td>-0.090828</td>\n",
       "      <td>NaN</td>\n",
       "      <td>sbj_0</td>\n",
       "    </tr>\n",
       "    <tr>\n",
       "      <th>1</th>\n",
       "      <td>0</td>\n",
       "      <td>1.177174</td>\n",
       "      <td>0.231861</td>\n",
       "      <td>-0.003207</td>\n",
       "      <td>0.988545</td>\n",
       "      <td>0.143807</td>\n",
       "      <td>0.144880</td>\n",
       "      <td>0.979794</td>\n",
       "      <td>-0.100042</td>\n",
       "      <td>0.086984</td>\n",
       "      <td>-1.122597</td>\n",
       "      <td>-0.232949</td>\n",
       "      <td>-0.106347</td>\n",
       "      <td>NaN</td>\n",
       "      <td>sbj_0</td>\n",
       "    </tr>\n",
       "    <tr>\n",
       "      <th>2</th>\n",
       "      <td>0</td>\n",
       "      <td>1.124248</td>\n",
       "      <td>0.264661</td>\n",
       "      <td>-0.027485</td>\n",
       "      <td>0.982286</td>\n",
       "      <td>0.155609</td>\n",
       "      <td>0.135133</td>\n",
       "      <td>0.982915</td>\n",
       "      <td>-0.095342</td>\n",
       "      <td>0.083391</td>\n",
       "      <td>-1.167835</td>\n",
       "      <td>-0.088288</td>\n",
       "      <td>-0.131609</td>\n",
       "      <td>NaN</td>\n",
       "      <td>sbj_0</td>\n",
       "    </tr>\n",
       "    <tr>\n",
       "      <th>3</th>\n",
       "      <td>0</td>\n",
       "      <td>1.032746</td>\n",
       "      <td>0.236885</td>\n",
       "      <td>-0.066591</td>\n",
       "      <td>0.981618</td>\n",
       "      <td>0.141745</td>\n",
       "      <td>0.134765</td>\n",
       "      <td>0.981991</td>\n",
       "      <td>-0.126157</td>\n",
       "      <td>0.088388</td>\n",
       "      <td>-1.143375</td>\n",
       "      <td>0.015024</td>\n",
       "      <td>-0.145414</td>\n",
       "      <td>NaN</td>\n",
       "      <td>sbj_0</td>\n",
       "    </tr>\n",
       "    <tr>\n",
       "      <th>4</th>\n",
       "      <td>0</td>\n",
       "      <td>0.974202</td>\n",
       "      <td>0.262050</td>\n",
       "      <td>-0.116387</td>\n",
       "      <td>0.988576</td>\n",
       "      <td>0.120453</td>\n",
       "      <td>0.143329</td>\n",
       "      <td>0.977757</td>\n",
       "      <td>-0.124765</td>\n",
       "      <td>0.113024</td>\n",
       "      <td>-1.063969</td>\n",
       "      <td>0.080970</td>\n",
       "      <td>-0.140224</td>\n",
       "      <td>NaN</td>\n",
       "      <td>sbj_0</td>\n",
       "    </tr>\n",
       "  </tbody>\n",
       "</table>\n",
       "</div>"
      ]
     },
     "execution_count": 23,
     "metadata": {},
     "output_type": "execute_result"
    }
   ],
   "execution_count": 23
  },
  {
   "metadata": {
    "ExecuteTime": {
     "end_time": "2025-06-19T19:42:48.827505Z",
     "start_time": "2025-06-19T19:42:42.898851Z"
    }
   },
   "cell_type": "code",
   "source": [
    "test_df = pd.read_csv(TEST_FILE)\n",
    "print(f\"Test-Data shape: {test_df.shape}\")\n",
    "test_df.head()"
   ],
   "id": "63e93a20a0da6fd4",
   "outputs": [
    {
     "name": "stdout",
     "output_type": "stream",
     "text": [
      "Test-Daten shape: (48936, 6)\n"
     ]
    },
    {
     "data": {
      "text/plain": [
       "   id  sbj_id sensor_location  \\\n",
       "0   0      22       right_arm   \n",
       "1   1      22       right_arm   \n",
       "2   2      23       right_arm   \n",
       "3   3      23       right_arm   \n",
       "4   4      23       right_arm   \n",
       "\n",
       "                                              x_axis  \\\n",
       "0  [0.2428425714285714, 0.2134530714285714, 0.174...   \n",
       "1  [0.6752909910531751, 0.4247757439107542, 0.715...   \n",
       "2  [0.04528874289978267, 0.02636863686942854, -0....   \n",
       "3  [-0.4294609406487871, -0.6656510068112931, -0....   \n",
       "4  [2.476312835574577, 1.6733647285880453, 1.7557...   \n",
       "\n",
       "                                              y_axis  \\\n",
       "0  [0.8463437142857143, 0.854221738095238, 0.8428...   \n",
       "1  [-0.9366750995461923, -0.6223881559309377, -0....   \n",
       "2  [0.5794056316368844, 0.5853422923083632, 0.646...   \n",
       "3  [-0.147632980836954, -0.014413570611691117, -0...   \n",
       "4  [-0.5983137218068052, -0.10164738944146791, -0...   \n",
       "\n",
       "                                              z_axis  \n",
       "0  [-0.4574545714285714, -0.4578691904761905, -0....  \n",
       "1  [-0.6175092749440796, -0.5824192453686647, -0....  \n",
       "2  [0.5778143538332879, 0.5922718075175648, 0.873...  \n",
       "3  [-1.0071089537700262, -0.8174943548296542, -0....  \n",
       "4  [-2.0541462483911856, -1.6842387016850981, -1....  "
      ],
      "text/html": [
       "<div>\n",
       "<style scoped>\n",
       "    .dataframe tbody tr th:only-of-type {\n",
       "        vertical-align: middle;\n",
       "    }\n",
       "\n",
       "    .dataframe tbody tr th {\n",
       "        vertical-align: top;\n",
       "    }\n",
       "\n",
       "    .dataframe thead th {\n",
       "        text-align: right;\n",
       "    }\n",
       "</style>\n",
       "<table border=\"1\" class=\"dataframe\">\n",
       "  <thead>\n",
       "    <tr style=\"text-align: right;\">\n",
       "      <th></th>\n",
       "      <th>id</th>\n",
       "      <th>sbj_id</th>\n",
       "      <th>sensor_location</th>\n",
       "      <th>x_axis</th>\n",
       "      <th>y_axis</th>\n",
       "      <th>z_axis</th>\n",
       "    </tr>\n",
       "  </thead>\n",
       "  <tbody>\n",
       "    <tr>\n",
       "      <th>0</th>\n",
       "      <td>0</td>\n",
       "      <td>22</td>\n",
       "      <td>right_arm</td>\n",
       "      <td>[0.2428425714285714, 0.2134530714285714, 0.174...</td>\n",
       "      <td>[0.8463437142857143, 0.854221738095238, 0.8428...</td>\n",
       "      <td>[-0.4574545714285714, -0.4578691904761905, -0....</td>\n",
       "    </tr>\n",
       "    <tr>\n",
       "      <th>1</th>\n",
       "      <td>1</td>\n",
       "      <td>22</td>\n",
       "      <td>right_arm</td>\n",
       "      <td>[0.6752909910531751, 0.4247757439107542, 0.715...</td>\n",
       "      <td>[-0.9366750995461923, -0.6223881559309377, -0....</td>\n",
       "      <td>[-0.6175092749440796, -0.5824192453686647, -0....</td>\n",
       "    </tr>\n",
       "    <tr>\n",
       "      <th>2</th>\n",
       "      <td>2</td>\n",
       "      <td>23</td>\n",
       "      <td>right_arm</td>\n",
       "      <td>[0.04528874289978267, 0.02636863686942854, -0....</td>\n",
       "      <td>[0.5794056316368844, 0.5853422923083632, 0.646...</td>\n",
       "      <td>[0.5778143538332879, 0.5922718075175648, 0.873...</td>\n",
       "    </tr>\n",
       "    <tr>\n",
       "      <th>3</th>\n",
       "      <td>3</td>\n",
       "      <td>23</td>\n",
       "      <td>right_arm</td>\n",
       "      <td>[-0.4294609406487871, -0.6656510068112931, -0....</td>\n",
       "      <td>[-0.147632980836954, -0.014413570611691117, -0...</td>\n",
       "      <td>[-1.0071089537700262, -0.8174943548296542, -0....</td>\n",
       "    </tr>\n",
       "    <tr>\n",
       "      <th>4</th>\n",
       "      <td>4</td>\n",
       "      <td>23</td>\n",
       "      <td>right_arm</td>\n",
       "      <td>[2.476312835574577, 1.6733647285880453, 1.7557...</td>\n",
       "      <td>[-0.5983137218068052, -0.10164738944146791, -0...</td>\n",
       "      <td>[-2.0541462483911856, -1.6842387016850981, -1....</td>\n",
       "    </tr>\n",
       "  </tbody>\n",
       "</table>\n",
       "</div>"
      ]
     },
     "execution_count": 24,
     "metadata": {},
     "output_type": "execute_result"
    }
   ],
   "execution_count": 24
  },
  {
   "metadata": {
    "ExecuteTime": {
     "end_time": "2025-06-19T19:42:49.261616Z",
     "start_time": "2025-06-19T19:42:49.197948Z"
    }
   },
   "cell_type": "code",
   "source": [
    "with open(META_FILE, 'r') as f:\n",
    "    lines = [ln.strip() for ln in f if ln.strip()]\n",
    "\n",
    "subjects_meta = {}\n",
    "current = None\n",
    "for line in lines:\n",
    "    if line.startswith('- sbj_'):\n",
    "        key = line.split()[1].rstrip(':')\n",
    "        subjects_meta[key] = {}\n",
    "        current = key\n",
    "    elif current and ':' in line:\n",
    "        k, v = map(str.strip, line.split(':', 1))\n",
    "        subjects_meta[current][k] = v\n",
    "\n",
    "meta_df = pd.DataFrame.from_dict(subjects_meta, orient='index')\n",
    "print(f\"Metadaten shape: {meta_df.shape}\")\n",
    "meta_df.head()\n"
   ],
   "id": "323d78bbb9dd0bd2",
   "outputs": [
    {
     "name": "stdout",
     "output_type": "stream",
     "text": [
      "Metadaten shape: (4, 12)\n"
     ]
    },
    {
     "data": {
      "text/plain": [
       "       - Duration - Number of activities         - Month - Time-of-day  \\\n",
       "sbj_22  02:57.000                      1   late-February     afternoon   \n",
       "sbj_23  01:47.000                      1  early-February     afternoon   \n",
       "sbj_24  15:50.000                      9   late-February     afternoon   \n",
       "sbj_25  15:49.000                      9     early-March        midday   \n",
       "\n",
       "       - Location ID       - Weather conditions Location Information  \\\n",
       "sbj_22            13         sunny, around 10°C                  NaN   \n",
       "sbj_23            14         sunny, around 10°C                  NaN   \n",
       "sbj_24            15         cloudy, around 5°C                  NaN   \n",
       "sbj_25             3  cloudy, windy, around 5°C                        \n",
       "\n",
       "       - Location 3 - Location 12 - Location 13 - Location 14 - Location 15  \n",
       "sbj_22          NaN           NaN           NaN           NaN           NaN  \n",
       "sbj_23          NaN           NaN           NaN           NaN           NaN  \n",
       "sbj_24          NaN           NaN           NaN           NaN           NaN  \n",
       "sbj_25                                                                       "
      ],
      "text/html": [
       "<div>\n",
       "<style scoped>\n",
       "    .dataframe tbody tr th:only-of-type {\n",
       "        vertical-align: middle;\n",
       "    }\n",
       "\n",
       "    .dataframe tbody tr th {\n",
       "        vertical-align: top;\n",
       "    }\n",
       "\n",
       "    .dataframe thead th {\n",
       "        text-align: right;\n",
       "    }\n",
       "</style>\n",
       "<table border=\"1\" class=\"dataframe\">\n",
       "  <thead>\n",
       "    <tr style=\"text-align: right;\">\n",
       "      <th></th>\n",
       "      <th>- Duration</th>\n",
       "      <th>- Number of activities</th>\n",
       "      <th>- Month</th>\n",
       "      <th>- Time-of-day</th>\n",
       "      <th>- Location ID</th>\n",
       "      <th>- Weather conditions</th>\n",
       "      <th>Location Information</th>\n",
       "      <th>- Location 3</th>\n",
       "      <th>- Location 12</th>\n",
       "      <th>- Location 13</th>\n",
       "      <th>- Location 14</th>\n",
       "      <th>- Location 15</th>\n",
       "    </tr>\n",
       "  </thead>\n",
       "  <tbody>\n",
       "    <tr>\n",
       "      <th>sbj_22</th>\n",
       "      <td>02:57.000</td>\n",
       "      <td>1</td>\n",
       "      <td>late-February</td>\n",
       "      <td>afternoon</td>\n",
       "      <td>13</td>\n",
       "      <td>sunny, around 10°C</td>\n",
       "      <td>NaN</td>\n",
       "      <td>NaN</td>\n",
       "      <td>NaN</td>\n",
       "      <td>NaN</td>\n",
       "      <td>NaN</td>\n",
       "      <td>NaN</td>\n",
       "    </tr>\n",
       "    <tr>\n",
       "      <th>sbj_23</th>\n",
       "      <td>01:47.000</td>\n",
       "      <td>1</td>\n",
       "      <td>early-February</td>\n",
       "      <td>afternoon</td>\n",
       "      <td>14</td>\n",
       "      <td>sunny, around 10°C</td>\n",
       "      <td>NaN</td>\n",
       "      <td>NaN</td>\n",
       "      <td>NaN</td>\n",
       "      <td>NaN</td>\n",
       "      <td>NaN</td>\n",
       "      <td>NaN</td>\n",
       "    </tr>\n",
       "    <tr>\n",
       "      <th>sbj_24</th>\n",
       "      <td>15:50.000</td>\n",
       "      <td>9</td>\n",
       "      <td>late-February</td>\n",
       "      <td>afternoon</td>\n",
       "      <td>15</td>\n",
       "      <td>cloudy, around 5°C</td>\n",
       "      <td>NaN</td>\n",
       "      <td>NaN</td>\n",
       "      <td>NaN</td>\n",
       "      <td>NaN</td>\n",
       "      <td>NaN</td>\n",
       "      <td>NaN</td>\n",
       "    </tr>\n",
       "    <tr>\n",
       "      <th>sbj_25</th>\n",
       "      <td>15:49.000</td>\n",
       "      <td>9</td>\n",
       "      <td>early-March</td>\n",
       "      <td>midday</td>\n",
       "      <td>3</td>\n",
       "      <td>cloudy, windy, around 5°C</td>\n",
       "      <td></td>\n",
       "      <td></td>\n",
       "      <td></td>\n",
       "      <td></td>\n",
       "      <td></td>\n",
       "      <td></td>\n",
       "    </tr>\n",
       "  </tbody>\n",
       "</table>\n",
       "</div>"
      ]
     },
     "execution_count": 25,
     "metadata": {},
     "output_type": "execute_result"
    }
   ],
   "execution_count": 25
  },
  {
   "metadata": {
    "ExecuteTime": {
     "end_time": "2025-06-19T19:43:11.074810Z",
     "start_time": "2025-06-19T19:42:50.166226Z"
    }
   },
   "cell_type": "code",
   "source": [
    "eprint = print\n",
    "print = eprint\n",
    "print(\"subjects:\", train_df['subject'].nunique())\n",
    "\n",
    "train_df.sample(5)\n",
    "\n",
    "num_cols = train_df.select_dtypes(include='number').columns.tolist()\n",
    "print(\"columns\", num_cols)\n",
    "train_df[num_cols].describe()\n",
    "\n",
    "if 'class' in train_df.columns:\n",
    "    counts = train_df['class'].value_counts().sort_index()\n",
    "    plt.figure()\n",
    "    counts.plot(kind='bar')\n",
    "    plt.title('Klassenverteilung')\n",
    "    plt.xlabel('Klasse')\n",
    "    plt.ylabel('Anzahl')\n",
    "    plt.tight_layout()\n",
    "    plt.show()\n",
    "else:\n",
    "    print(\"class not found\")\n"
   ],
   "id": "d824dd6844110976",
   "outputs": [
    {
     "name": "stdout",
     "output_type": "stream",
     "text": [
      "Einzigartige Subjekte: 24\n",
      "Numerische Spalten: ['sbj_id', 'right_arm_acc_x', 'right_arm_acc_y', 'right_arm_acc_z', 'right_leg_acc_x', 'right_leg_acc_y', 'right_leg_acc_z', 'left_leg_acc_x', 'left_leg_acc_y', 'left_leg_acc_z', 'left_arm_acc_x', 'left_arm_acc_y', 'left_arm_acc_z']\n",
      "Spalte 'class' nicht gefunden.\n"
     ]
    }
   ],
   "execution_count": 26
  },
  {
   "metadata": {
    "ExecuteTime": {
     "end_time": "2025-06-19T19:43:13.962794Z",
     "start_time": "2025-06-19T19:43:11.906826Z"
    }
   },
   "cell_type": "code",
   "source": [
    "missing = train_df.isna().sum()\n",
    "missing[missing > 0]"
   ],
   "id": "2b7873d6cab1acb2",
   "outputs": [
    {
     "data": {
      "text/plain": [
       "left_arm_acc_x      51392\n",
       "left_arm_acc_y      51392\n",
       "left_arm_acc_z      51392\n",
       "label             1377362\n",
       "dtype: int64"
      ]
     },
     "execution_count": 27,
     "metadata": {},
     "output_type": "execute_result"
    }
   ],
   "execution_count": 27
  },
  {
   "metadata": {},
   "cell_type": "code",
   "outputs": [],
   "execution_count": null,
   "source": "",
   "id": "ee8ea89f0409e9c3"
  }
 ],
 "metadata": {
  "kernelspec": {
   "display_name": "Python 3",
   "language": "python",
   "name": "python3"
  },
  "language_info": {
   "codemirror_mode": {
    "name": "ipython",
    "version": 2
   },
   "file_extension": ".py",
   "mimetype": "text/x-python",
   "name": "python",
   "nbconvert_exporter": "python",
   "pygments_lexer": "ipython2",
   "version": "2.7.6"
  }
 },
 "nbformat": 4,
 "nbformat_minor": 5
}
